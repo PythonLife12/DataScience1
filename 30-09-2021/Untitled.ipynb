{
 "cells": [
  {
   "cell_type": "code",
   "execution_count": null,
   "id": "231516d8",
   "metadata": {},
   "outputs": [],
   "source": [
    "#Mean \n",
    "#Median\n",
    "#Mode\n",
    "\n",
    "\n",
    "# NumPY, Pandas\n",
    "\n",
    "\n",
    "#https://latex.codecogs.com/eqneditor/editor.php"
   ]
  },
  {
   "cell_type": "markdown",
   "id": "32e4d794",
   "metadata": {},
   "source": [
    "## Mean"
   ]
  },
  {
   "cell_type": "markdown",
   "id": "778ca94a",
   "metadata": {},
   "source": [
    "$$ Mean_{data} = \\frac{\\sum_{i=0}^{n} X_{i}}{Totalnumber} $$\n",
    "\n",
    "\n",
    "\n",
    "The mean"
   ]
  },
  {
   "cell_type": "markdown",
   "id": "9ddca670",
   "metadata": {},
   "source": [
    "<h1>Median</h1>\n",
    "    \n",
    "$$ Mean_{data} = \\frac{\\sum_{i=0}^{n} X_{i}}{Totalnumber} $$\n",
    "    \n",
    "    \n",
    "<p>this is the descrition of the Mean </p>"
   ]
  },
  {
   "cell_type": "code",
   "execution_count": null,
   "id": "996f1caa",
   "metadata": {},
   "outputs": [],
   "source": [
    "# Code\n",
    "# From Scrach, Numpy, Pandas\n",
    "# class\n",
    "\n",
    "\n",
    "\n",
    "class CentralTendency:\n",
    "    \n",
    "    def __init__(self):\n",
    "        pass\n",
    "    \n",
    "    def mean(self):\n",
    "        pass\n",
    "    \n",
    "    def mode(self):\n",
    "        pass\n",
    "    \n",
    "    def median(self):\n",
    "        pass"
   ]
  }
 ],
 "metadata": {
  "kernelspec": {
   "display_name": "Python 3",
   "language": "python",
   "name": "python3"
  },
  "language_info": {
   "codemirror_mode": {
    "name": "ipython",
    "version": 3
   },
   "file_extension": ".py",
   "mimetype": "text/x-python",
   "name": "python",
   "nbconvert_exporter": "python",
   "pygments_lexer": "ipython3",
   "version": "3.7.10"
  }
 },
 "nbformat": 4,
 "nbformat_minor": 5
}
